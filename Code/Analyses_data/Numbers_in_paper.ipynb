{
 "cells": [
  {
   "cell_type": "code",
   "execution_count": 1,
   "metadata": {
    "collapsed": true
   },
   "outputs": [
    {
     "name": "stdout",
     "output_type": "stream",
     "text": [
      "C:/Users/malte/Documents/GitHub/Climate_Finance_Bert/\n"
     ]
    }
   ],
   "source": [
    "dir_path = ''\n",
    "import pandas as pd\n",
    "\n",
    "pd.set_option('display.width', 1000)\n",
    "pd.set_option('display.max_columns', 10)\n",
    "\n",
    "print(dir_path)\n",
    "\n",
    "def csv_import(name, delimiter=\"|\"):\n",
    "    x = pd.read_csv(name, encoding='utf8', low_memory=False, delimiter=delimiter,\n",
    "                    dtype={'text': str,\n",
    "                           \"USD_Disbursement\": float\n",
    "                           }\n",
    "                    )\n",
    "    return x"
   ]
  },
  {
   "cell_type": "code",
   "execution_count": 2,
   "outputs": [],
   "source": [
    "df = csv_import(dir_path+'Data/climate_finance_total.csv')"
   ],
   "metadata": {
    "collapsed": false,
    "pycharm": {
     "name": "#%%\n"
    }
   }
  },
  {
   "cell_type": "code",
   "execution_count": 7,
   "outputs": [
    {
     "name": "stdout",
     "output_type": "stream",
     "text": [
      "0                               500\n",
      "15              Renewables-multiple\n",
      "131            Sustainable-land-use\n",
      "134                    Solar-energy\n",
      "148                      Adaptation\n",
      "158      Other-environment-projects\n",
      "200       Other-mitigation-projects\n",
      "213                    Hydro-energy\n",
      "261                    Biodiversity\n",
      "474                       Bioenergy\n",
      "925             Nature_conservation\n",
      "1025              Energy-efficiency\n",
      "1091              Geothermal-energy\n",
      "1864                    Wind-energy\n",
      "34006                 Marine-energy\n",
      "Name: climate_class, dtype: object\n"
     ]
    }
   ],
   "source": [
    "print(df['climate_class'].drop_duplicates())"
   ],
   "metadata": {
    "collapsed": false,
    "pycharm": {
     "name": "#%%\n"
    }
   }
  },
  {
   "cell_type": "code",
   "execution_count": 3,
   "outputs": [
    {
     "ename": "ParserError",
     "evalue": "Error tokenizing data. C error: Calling read(nbytes) on source failed. Try engine='python'.",
     "output_type": "error",
     "traceback": [
      "\u001B[1;31m---------------------------------------------------------------------------\u001B[0m",
      "\u001B[1;31mParserError\u001B[0m                               Traceback (most recent call last)",
      "\u001B[1;32m~\\AppData\\Local\\Temp/ipykernel_3920/1967585529.py\u001B[0m in \u001B[0;36m<module>\u001B[1;34m\u001B[0m\n\u001B[0;32m      1\u001B[0m \u001B[1;31m##all ODA incl. multilateral\u001B[0m\u001B[1;33m\u001B[0m\u001B[1;33m\u001B[0m\u001B[1;33m\u001B[0m\u001B[0m\n\u001B[1;32m----> 2\u001B[1;33m \u001B[0mdf2\u001B[0m \u001B[1;33m=\u001B[0m\u001B[0mcsv_import\u001B[0m\u001B[1;33m(\u001B[0m\u001B[0mdir_path\u001B[0m\u001B[1;33m+\u001B[0m\u001B[1;34m'Data/df_preprocessed.csv'\u001B[0m\u001B[1;33m)\u001B[0m\u001B[1;33m\u001B[0m\u001B[1;33m\u001B[0m\u001B[0m\n\u001B[0m\u001B[0;32m      3\u001B[0m \u001B[0mprint\u001B[0m\u001B[1;33m(\u001B[0m\u001B[0mdf\u001B[0m\u001B[1;33m.\u001B[0m\u001B[0mshape\u001B[0m\u001B[1;33m)\u001B[0m\u001B[1;33m\u001B[0m\u001B[1;33m\u001B[0m\u001B[0m\n\u001B[0;32m      4\u001B[0m \u001B[1;33m\u001B[0m\u001B[0m\n",
      "\u001B[1;32m~\\AppData\\Local\\Temp/ipykernel_3920/2162742438.py\u001B[0m in \u001B[0;36mcsv_import\u001B[1;34m(name, delimiter)\u001B[0m\n\u001B[0;32m     10\u001B[0m     x = pd.read_csv(name, encoding='utf8', low_memory=False, delimiter=delimiter,\n\u001B[0;32m     11\u001B[0m                     dtype={'text': str,\n\u001B[1;32m---> 12\u001B[1;33m                            \u001B[1;34m\"USD_Disbursement\"\u001B[0m\u001B[1;33m:\u001B[0m \u001B[0mfloat\u001B[0m\u001B[1;33m\u001B[0m\u001B[1;33m\u001B[0m\u001B[0m\n\u001B[0m\u001B[0;32m     13\u001B[0m                            }\n\u001B[0;32m     14\u001B[0m                     )\n",
      "\u001B[1;32m~\\Documents\\GitHub\\Climate_Finance_Bert\\virtualenv\\lib\\site-packages\\pandas\\util\\_decorators.py\u001B[0m in \u001B[0;36mwrapper\u001B[1;34m(*args, **kwargs)\u001B[0m\n\u001B[0;32m    309\u001B[0m                     \u001B[0mstacklevel\u001B[0m\u001B[1;33m=\u001B[0m\u001B[0mstacklevel\u001B[0m\u001B[1;33m,\u001B[0m\u001B[1;33m\u001B[0m\u001B[1;33m\u001B[0m\u001B[0m\n\u001B[0;32m    310\u001B[0m                 )\n\u001B[1;32m--> 311\u001B[1;33m             \u001B[1;32mreturn\u001B[0m \u001B[0mfunc\u001B[0m\u001B[1;33m(\u001B[0m\u001B[1;33m*\u001B[0m\u001B[0margs\u001B[0m\u001B[1;33m,\u001B[0m \u001B[1;33m**\u001B[0m\u001B[0mkwargs\u001B[0m\u001B[1;33m)\u001B[0m\u001B[1;33m\u001B[0m\u001B[1;33m\u001B[0m\u001B[0m\n\u001B[0m\u001B[0;32m    312\u001B[0m \u001B[1;33m\u001B[0m\u001B[0m\n\u001B[0;32m    313\u001B[0m         \u001B[1;32mreturn\u001B[0m \u001B[0mwrapper\u001B[0m\u001B[1;33m\u001B[0m\u001B[1;33m\u001B[0m\u001B[0m\n",
      "\u001B[1;32m~\\Documents\\GitHub\\Climate_Finance_Bert\\virtualenv\\lib\\site-packages\\pandas\\io\\parsers\\readers.py\u001B[0m in \u001B[0;36mread_csv\u001B[1;34m(filepath_or_buffer, sep, delimiter, header, names, index_col, usecols, squeeze, prefix, mangle_dupe_cols, dtype, engine, converters, true_values, false_values, skipinitialspace, skiprows, skipfooter, nrows, na_values, keep_default_na, na_filter, verbose, skip_blank_lines, parse_dates, infer_datetime_format, keep_date_col, date_parser, dayfirst, cache_dates, iterator, chunksize, compression, thousands, decimal, lineterminator, quotechar, quoting, doublequote, escapechar, comment, encoding, encoding_errors, dialect, error_bad_lines, warn_bad_lines, on_bad_lines, delim_whitespace, low_memory, memory_map, float_precision, storage_options)\u001B[0m\n\u001B[0;32m    584\u001B[0m     \u001B[0mkwds\u001B[0m\u001B[1;33m.\u001B[0m\u001B[0mupdate\u001B[0m\u001B[1;33m(\u001B[0m\u001B[0mkwds_defaults\u001B[0m\u001B[1;33m)\u001B[0m\u001B[1;33m\u001B[0m\u001B[1;33m\u001B[0m\u001B[0m\n\u001B[0;32m    585\u001B[0m \u001B[1;33m\u001B[0m\u001B[0m\n\u001B[1;32m--> 586\u001B[1;33m     \u001B[1;32mreturn\u001B[0m \u001B[0m_read\u001B[0m\u001B[1;33m(\u001B[0m\u001B[0mfilepath_or_buffer\u001B[0m\u001B[1;33m,\u001B[0m \u001B[0mkwds\u001B[0m\u001B[1;33m)\u001B[0m\u001B[1;33m\u001B[0m\u001B[1;33m\u001B[0m\u001B[0m\n\u001B[0m\u001B[0;32m    587\u001B[0m \u001B[1;33m\u001B[0m\u001B[0m\n\u001B[0;32m    588\u001B[0m \u001B[1;33m\u001B[0m\u001B[0m\n",
      "\u001B[1;32m~\\Documents\\GitHub\\Climate_Finance_Bert\\virtualenv\\lib\\site-packages\\pandas\\io\\parsers\\readers.py\u001B[0m in \u001B[0;36m_read\u001B[1;34m(filepath_or_buffer, kwds)\u001B[0m\n\u001B[0;32m    486\u001B[0m \u001B[1;33m\u001B[0m\u001B[0m\n\u001B[0;32m    487\u001B[0m     \u001B[1;32mwith\u001B[0m \u001B[0mparser\u001B[0m\u001B[1;33m:\u001B[0m\u001B[1;33m\u001B[0m\u001B[1;33m\u001B[0m\u001B[0m\n\u001B[1;32m--> 488\u001B[1;33m         \u001B[1;32mreturn\u001B[0m \u001B[0mparser\u001B[0m\u001B[1;33m.\u001B[0m\u001B[0mread\u001B[0m\u001B[1;33m(\u001B[0m\u001B[0mnrows\u001B[0m\u001B[1;33m)\u001B[0m\u001B[1;33m\u001B[0m\u001B[1;33m\u001B[0m\u001B[0m\n\u001B[0m\u001B[0;32m    489\u001B[0m \u001B[1;33m\u001B[0m\u001B[0m\n\u001B[0;32m    490\u001B[0m \u001B[1;33m\u001B[0m\u001B[0m\n",
      "\u001B[1;32m~\\Documents\\GitHub\\Climate_Finance_Bert\\virtualenv\\lib\\site-packages\\pandas\\io\\parsers\\readers.py\u001B[0m in \u001B[0;36mread\u001B[1;34m(self, nrows)\u001B[0m\n\u001B[0;32m   1045\u001B[0m     \u001B[1;32mdef\u001B[0m \u001B[0mread\u001B[0m\u001B[1;33m(\u001B[0m\u001B[0mself\u001B[0m\u001B[1;33m,\u001B[0m \u001B[0mnrows\u001B[0m\u001B[1;33m=\u001B[0m\u001B[1;32mNone\u001B[0m\u001B[1;33m)\u001B[0m\u001B[1;33m:\u001B[0m\u001B[1;33m\u001B[0m\u001B[1;33m\u001B[0m\u001B[0m\n\u001B[0;32m   1046\u001B[0m         \u001B[0mnrows\u001B[0m \u001B[1;33m=\u001B[0m \u001B[0mvalidate_integer\u001B[0m\u001B[1;33m(\u001B[0m\u001B[1;34m\"nrows\"\u001B[0m\u001B[1;33m,\u001B[0m \u001B[0mnrows\u001B[0m\u001B[1;33m)\u001B[0m\u001B[1;33m\u001B[0m\u001B[1;33m\u001B[0m\u001B[0m\n\u001B[1;32m-> 1047\u001B[1;33m         \u001B[0mindex\u001B[0m\u001B[1;33m,\u001B[0m \u001B[0mcolumns\u001B[0m\u001B[1;33m,\u001B[0m \u001B[0mcol_dict\u001B[0m \u001B[1;33m=\u001B[0m \u001B[0mself\u001B[0m\u001B[1;33m.\u001B[0m\u001B[0m_engine\u001B[0m\u001B[1;33m.\u001B[0m\u001B[0mread\u001B[0m\u001B[1;33m(\u001B[0m\u001B[0mnrows\u001B[0m\u001B[1;33m)\u001B[0m\u001B[1;33m\u001B[0m\u001B[1;33m\u001B[0m\u001B[0m\n\u001B[0m\u001B[0;32m   1048\u001B[0m \u001B[1;33m\u001B[0m\u001B[0m\n\u001B[0;32m   1049\u001B[0m         \u001B[1;32mif\u001B[0m \u001B[0mindex\u001B[0m \u001B[1;32mis\u001B[0m \u001B[1;32mNone\u001B[0m\u001B[1;33m:\u001B[0m\u001B[1;33m\u001B[0m\u001B[1;33m\u001B[0m\u001B[0m\n",
      "\u001B[1;32m~\\Documents\\GitHub\\Climate_Finance_Bert\\virtualenv\\lib\\site-packages\\pandas\\io\\parsers\\c_parser_wrapper.py\u001B[0m in \u001B[0;36mread\u001B[1;34m(self, nrows)\u001B[0m\n\u001B[0;32m    227\u001B[0m \u001B[1;33m\u001B[0m\u001B[0m\n\u001B[0;32m    228\u001B[0m             \u001B[1;32melse\u001B[0m\u001B[1;33m:\u001B[0m\u001B[1;33m\u001B[0m\u001B[1;33m\u001B[0m\u001B[0m\n\u001B[1;32m--> 229\u001B[1;33m                 \u001B[0mdata\u001B[0m \u001B[1;33m=\u001B[0m \u001B[0mself\u001B[0m\u001B[1;33m.\u001B[0m\u001B[0m_reader\u001B[0m\u001B[1;33m.\u001B[0m\u001B[0mread\u001B[0m\u001B[1;33m(\u001B[0m\u001B[0mnrows\u001B[0m\u001B[1;33m)\u001B[0m\u001B[1;33m\u001B[0m\u001B[1;33m\u001B[0m\u001B[0m\n\u001B[0m\u001B[0;32m    230\u001B[0m         \u001B[1;32mexcept\u001B[0m \u001B[0mStopIteration\u001B[0m\u001B[1;33m:\u001B[0m\u001B[1;33m\u001B[0m\u001B[1;33m\u001B[0m\u001B[0m\n\u001B[0;32m    231\u001B[0m             \u001B[1;32mif\u001B[0m \u001B[0mself\u001B[0m\u001B[1;33m.\u001B[0m\u001B[0m_first_chunk\u001B[0m\u001B[1;33m:\u001B[0m\u001B[1;33m\u001B[0m\u001B[1;33m\u001B[0m\u001B[0m\n",
      "\u001B[1;32m~\\Documents\\GitHub\\Climate_Finance_Bert\\virtualenv\\lib\\site-packages\\pandas\\_libs\\parsers.pyx\u001B[0m in \u001B[0;36mpandas._libs.parsers.TextReader.read\u001B[1;34m()\u001B[0m\n",
      "\u001B[1;32m~\\Documents\\GitHub\\Climate_Finance_Bert\\virtualenv\\lib\\site-packages\\pandas\\_libs\\parsers.pyx\u001B[0m in \u001B[0;36mpandas._libs.parsers.TextReader._read_rows\u001B[1;34m()\u001B[0m\n",
      "\u001B[1;32m~\\Documents\\GitHub\\Climate_Finance_Bert\\virtualenv\\lib\\site-packages\\pandas\\_libs\\parsers.pyx\u001B[0m in \u001B[0;36mpandas._libs.parsers.raise_parser_error\u001B[1;34m()\u001B[0m\n",
      "\u001B[1;31mParserError\u001B[0m: Error tokenizing data. C error: Calling read(nbytes) on source failed. Try engine='python'."
     ]
    }
   ],
   "source": [
    "##all ODA incl. multilateral\n",
    "df2 =csv_import(dir_path+'Data/df_preprocessed.csv')\n",
    "print(df.shape)"
   ],
   "metadata": {
    "collapsed": false,
    "pycharm": {
     "name": "#%%\n"
    }
   }
  },
  {
   "cell_type": "code",
   "execution_count": 9,
   "outputs": [
    {
     "name": "stdout",
     "output_type": "stream",
     "text": [
      "climate finance total\n",
      "Projects:  82023\n",
      "Disbursements:  80167.44785704858\n",
      "climate finance incl. Environment\n",
      "Projects:  192980\n",
      "Disbursements:  128094.23265932164\n",
      "Mitigation\n",
      "Projects:  39200\n",
      "Disbursements:  51750.58120063662\n",
      "Share disbursements:  0.6455311050055654\n",
      "Adaptation\n",
      "Projects:  42823\n",
      "Disbursements:  28416.866656411974\n",
      "Share disbursements:  0.35446889499443474\n",
      "\n",
      "XXX\n",
      "\n",
      "ONLY AFTER 2015\n",
      "\n",
      "Projects:  32370\n",
      "Disbursements:  30307.104583049346\n",
      "Share Disbzursements after 2015 0.37804751670642894\n",
      "Mitigation\n",
      "Projects:  14747\n",
      "Disbursements:  18883.81392662713\n",
      "Share disbursements:  0.6230820854192972\n",
      "Adaptation\n",
      "Projects:  17623\n",
      "Disbursements:  11423.29065642221\n",
      "Share disbursements:  0.3769179145807025\n",
      "\n",
      "Comparison Rio\n",
      "Share Rio Sign 0.3570859756036518\n",
      "Share Rio Princ 0.7922957931461321\n",
      "Share Rio Sign including nature conservation 0.37750846448236075\n",
      "Share Rio Princ including nature conservation 0.837608835745527\n"
     ]
    }
   ],
   "source": [
    "\"\"\"Abstract\"\"\"\n",
    "print('climate finance total')\n",
    "print(\"Projects: \",df[df.meta_category.isin(['Mitigation','Adaptation'])].shape[0])\n",
    "print(\"Disbursements: \",df.USD_Disbursement[df.meta_category.isin(['Mitigation','Adaptation'])].sum())\n",
    "\n",
    "print('climate finance incl. Environment')\n",
    "print(\"Projects: \",df[df.meta_category.isin(['Mitigation','Adaptation','Environment'])].shape[0])\n",
    "print(\"Disbursements: \",df.USD_Disbursement[df.meta_category.isin(['Mitigation','Adaptation','Environment'])].sum())\n",
    "\n",
    "print('Mitigation')\n",
    "print(\"Projects: \",df[df.meta_category.isin(['Mitigation'])].shape[0])\n",
    "print(\"Disbursements: \",df.USD_Disbursement[df.meta_category.isin(['Mitigation'])].sum())\n",
    "print('Share disbursements: ',df.USD_Disbursement[df.meta_category.isin(['Mitigation'])].sum()\n",
    "/df.USD_Disbursement[df.meta_category.isin(['Mitigation','Adaptation'])].sum())\n",
    "\n",
    "print('Adaptation')\n",
    "print(\"Projects: \",df[df.meta_category.isin(['Adaptation'])].shape[0])\n",
    "print(\"Disbursements: \",df.USD_Disbursement[df.meta_category.isin(['Adaptation'])].sum())\n",
    "print('Share disbursements: ',df.USD_Disbursement[df.meta_category.isin(['Adaptation'])].sum()\n",
    "/df.USD_Disbursement[df.meta_category.isin(['Mitigation','Adaptation'])].sum())\n",
    "\n",
    "print(\"\")\n",
    "print(\"XXX\")\n",
    "print(\"\")\n",
    "print(\"ONLY AFTER 2015\")\n",
    "print(\"\")\n",
    "df_2016 = df[df.Year>2015]\n",
    "print(\"Projects: \",df_2016[df_2016.meta_category.isin(['Mitigation','Adaptation'])].shape[0])\n",
    "print(\"Disbursements: \",df_2016.USD_Disbursement[df_2016.meta_category.isin(['Mitigation','Adaptation'])].sum())\n",
    "print(\"Share Disbzursements after 2015\",df_2016.USD_Disbursement[df_2016.meta_category.isin(['Mitigation','Adaptation'])].sum()/df.USD_Disbursement[df.meta_category.isin(['Mitigation','Adaptation'])].sum())\n",
    "\n",
    "print('Mitigation')\n",
    "print(\"Projects: \",df_2016[df_2016.meta_category.isin(['Mitigation'])].shape[0])\n",
    "print(\"Disbursements: \",df_2016.USD_Disbursement[df_2016.meta_category.isin(['Mitigation'])].sum())\n",
    "print('Share disbursements: ',df_2016.USD_Disbursement[df_2016.meta_category.isin(['Mitigation'])].sum()\n",
    "/df_2016.USD_Disbursement[df_2016.meta_category.isin(['Mitigation','Adaptation'])].sum())\n",
    "\n",
    "print('Adaptation')\n",
    "print(\"Projects: \",df_2016[df_2016.meta_category.isin(['Adaptation'])].shape[0])\n",
    "print(\"Disbursements: \",df_2016.USD_Disbursement[df_2016.meta_category.isin(['Adaptation'])].sum())\n",
    "print('Share disbursements: ',df_2016.USD_Disbursement[df_2016.meta_category.isin(['Adaptation'])].sum()\n",
    "/df_2016.USD_Disbursement[df_2016.meta_category.isin(['Mitigation','Adaptation'])].sum())\n",
    "\n",
    "print(\"\")\n",
    "print(\"Comparison Rio\")\n",
    "print(\"Share Rio Sign\",df_2016.USD_Disbursement[df_2016.meta_category.isin(['Mitigation','Adaptation'])].sum()\n",
    "      /df_2016.USD_Disbursement[(df_2016.ClimateAdaptation.isin([1,2]))|(df_2016.ClimateMitigation.isin([1,2]))].sum()\n",
    "      )\n",
    "print(\"Share Rio Princ\",df_2016.USD_Disbursement[df_2016.meta_category.isin(['Mitigation','Adaptation'])].sum()\n",
    "      /df_2016.USD_Disbursement[(df_2016.ClimateAdaptation.isin([2]))|(df_2016.ClimateMitigation.isin([2]))].sum()\n",
    "      )\n",
    "print(\"Share Rio Sign including nature conservation\",df_2016.USD_Disbursement[(df_2016.meta_category.isin(['Mitigation','Adaptation']))|(df_2016.climate_class.isin(['Nature_conservation']))].sum()\n",
    "      /df_2016.USD_Disbursement[(df_2016.ClimateAdaptation.isin([1,2]))|(df_2016.ClimateMitigation.isin([1,2]))].sum()\n",
    "      )\n",
    "print(\"Share Rio Princ including nature conservation\",df_2016.USD_Disbursement[(df_2016.meta_category.isin(['Mitigation','Adaptation']))|(df_2016.climate_class.isin(['Nature_conservation']))].sum()\n",
    "      /df_2016.USD_Disbursement[(df_2016.ClimateAdaptation.isin([2]))|(df_2016.ClimateMitigation.isin([2]))].sum()\n",
    "      )"
   ],
   "metadata": {
    "collapsed": false,
    "pycharm": {
     "name": "#%%\n"
    }
   }
  },
  {
   "cell_type": "code",
   "execution_count": null,
   "outputs": [],
   "source": [
    "\"INTRODUCTION\""
   ],
   "metadata": {
    "collapsed": false,
    "pycharm": {
     "name": "#%%\n"
    }
   }
  },
  {
   "cell_type": "code",
   "execution_count": 6,
   "outputs": [
    {
     "name": "stdout",
     "output_type": "stream",
     "text": [
      "Climate Finance Timeline\n",
      "Share mitigation all years\n",
      "0.4779147312339222\n",
      "XXX\n",
      "NANs\n",
      "0.1374614437413896\n",
      "0.023076923076923078\n",
      "                                                      text  ClimateMitigation\n",
      "6289     the afroasian institute graz aai makes an acti...                NaN\n",
      "10384    the project lies within the archam and bajora ...                NaN\n",
      "10395    rwegura hydroelectric rwegura hydroelectric rw...                NaN\n",
      "10405    the project involves the construction of a rol...                NaN\n",
      "10427    construction of double circuit kv transmission...                NaN\n",
      "...                                                    ...                ...\n",
      "2736492  various preappraisal consultancies and studies...                NaN\n",
      "2736629  increase food consumption by food insecure hou...                NaN\n",
      "2736677  hydroelectric plant wa simba minicentrale idro...                NaN\n",
      "2736705  various preappraisal consultancies and studies...                NaN\n",
      "2736933  the rehabilitation and upgrading of turbines a...                NaN\n",
      "\n",
      "[11626 rows x 2 columns]\n"
     ]
    }
   ],
   "source": [
    "\"SEC 1\"\n",
    "#print(\"Projects: \",df_2016[df_2016.meta_category.isin(['Environment'])].shape[0])\n",
    "\n",
    "print(\"Climate Finance Timeline\")\n",
    "print (\"Share mitigation all years\")\n",
    "print(df[(df.meta_category.isin(['Mitigation']))].shape[0]/df[(df.meta_category.isin(['Mitigation','Adaptation']))].shape[0])\n",
    "print('XXX')\n",
    "\n",
    "print(\"NANs\")\n",
    "print(df[(df.meta_category.isin(['Mitigation','Adaptation'])&((df.ClimateMitigation.isnull()&df.ClimateAdaptation.isnull())))].shape[0]\n",
    "      /df[df.meta_category.isin(['Mitigation','Adaptation'])].shape[0])\n",
    "print(df_2016[(df_2016.meta_category.isin(['Mitigation','Adaptation'])&((df_2016.ClimateMitigation.isnull()&df_2016.ClimateAdaptation.isnull())))].shape[0]\n",
    "      /df_2016[df_2016.meta_category.isin(['Mitigation','Adaptation'])].shape[0])\n",
    "print(df[['text','ClimateMitigation']][(df.meta_category.isin(['Mitigation','Adaptation'])&((df.ClimateMitigation.isnull())))])"
   ],
   "metadata": {
    "collapsed": false,
    "pycharm": {
     "name": "#%%\n"
    }
   }
  },
  {
   "cell_type": "code",
   "execution_count": 8,
   "outputs": [
    {
     "name": "stdout",
     "output_type": "stream",
     "text": [
      "Mitigation vs. RIo\n",
      "diff mitigation in 2019 incl. sign\n",
      "4.020278888851931\n",
      "for adaptaiton\n",
      "3.6561158916945353\n"
     ]
    }
   ],
   "source": [
    "\"\"\"Number 2019\"\"\"\n",
    "print(\"Mitigation vs. RIo\")\n",
    "df_2019 = df[df.Year==2019]\n",
    "print(\"diff mitigation in 2019 incl. sign\")\n",
    "print(df_2019.USD_Disbursement[(df_2019.ClimateMitigation.isin([1,2]))].sum()/df_2019.USD_Disbursement[(df_2019.meta_category.isin(['Mitigation']))].sum())\n",
    "print(\"for adaptaiton\")\n",
    "print(df_2019.USD_Disbursement[(df_2019.ClimateAdaptation.isin([1,2]))].sum()/df_2019.USD_Disbursement[(df_2019.meta_category.isin(['Adaptation']))].sum())"
   ],
   "metadata": {
    "collapsed": false,
    "pycharm": {
     "name": "#%%\n"
    }
   }
  },
  {
   "cell_type": "code",
   "execution_count": 23,
   "outputs": [
    {
     "name": "stdout",
     "output_type": "stream",
     "text": [
      "Share of Environment in RIO\n",
      "0.14860333264191386\n"
     ]
    }
   ],
   "source": [
    "print(\"Share of Environment in RIO\")\n",
    "print(df[(df.meta_category.isin(['Environment']))&((df.ClimateAdaptation.isin([1,2]))|\n",
    "         (df.ClimateMitigation.isin([1,2])))].shape[0]\n",
    "      /     df[((df.ClimateAdaptation.isin([1,2]))|\n",
    "         (df.ClimateMitigation.isin([1,2])))].shape[0] )\n"
   ],
   "metadata": {
    "collapsed": false,
    "pycharm": {
     "name": "#%%\n"
    }
   }
  },
  {
   "cell_type": "code",
   "execution_count": 24,
   "outputs": [
    {
     "name": "stdout",
     "output_type": "stream",
     "text": [
      "25791\n"
     ]
    }
   ],
   "source": [
    "print(df[(df.meta_category.isin(['Environment']))&((df.ClimateAdaptation.isin([1,2]))|\n",
    "         (df.ClimateMitigation.isin([1,2])))].shape[0])"
   ],
   "metadata": {
    "collapsed": false,
    "pycharm": {
     "name": "#%%\n"
    }
   }
  },
  {
   "cell_type": "code",
   "execution_count": 6,
   "outputs": [
    {
     "name": "stdout",
     "output_type": "stream",
     "text": [
      "Overlap Rio Markers with both labeled\n",
      "0.2795524211205605\n",
      "2016\n",
      "0.34146184449394223\n"
     ]
    }
   ],
   "source": [
    "print(\"Overlap Rio Markers with both labeled\")\n",
    "print(df[(df.ClimateAdaptation.isin([1,2]))&(df.ClimateMitigation.isin([1,2]))].shape[0]\n",
    "/df[(df.ClimateAdaptation.isin([1,2]))|(df.ClimateMitigation.isin([1,2]))].shape[0])\n",
    "print(\"2016\")\n",
    "print(df_2016[(df_2016.ClimateAdaptation.isin([1,2]))&(df_2016.ClimateMitigation.isin([1,2]))].shape[0]\n",
    "/df_2016[(df_2016.ClimateAdaptation.isin([1,2]))|(df_2016.ClimateMitigation.isin([1,2]))].shape[0])"
   ],
   "metadata": {
    "collapsed": false,
    "pycharm": {
     "name": "#%%\n"
    }
   }
  },
  {
   "cell_type": "code",
   "execution_count": null,
   "outputs": [],
   "source": [
    "\"\"\"Section 3 Donors and Recipients\"\"\""
   ],
   "metadata": {
    "collapsed": false,
    "pycharm": {
     "name": "#%%\n"
    }
   }
  },
  {
   "cell_type": "code",
   "execution_count": 9,
   "outputs": [],
   "source": [
    "df_2016 = df[df.Year>2015]\n",
    "df_donor=df_2016[['DonorName','USD_Disbursement','meta_category']].groupby(['DonorName','meta_category']).sum().reset_index()"
   ],
   "metadata": {
    "collapsed": false,
    "pycharm": {
     "name": "#%%\n"
    }
   }
  },
  {
   "cell_type": "code",
   "execution_count": 12,
   "outputs": [],
   "source": [
    "df_donor = df_donor[df_donor.meta_category.isin(['Mitigation','Adaptation'])]\n",
    "df_donor_climate = df_donor[['DonorName','USD_Disbursement']].groupby(['DonorName']).sum().reset_index()\n"
   ],
   "metadata": {
    "collapsed": false,
    "pycharm": {
     "name": "#%%\n"
    }
   }
  },
  {
   "cell_type": "code",
   "execution_count": 11,
   "outputs": [
    {
     "name": "stdout",
     "output_type": "stream",
     "text": [
      "               DonorName  USD_Disbursement\n",
      "11               Germany      10183.114540\n",
      "38        United Kingdom       4632.436302\n",
      "10                France       3723.098205\n",
      "39         United States       2764.484694\n",
      "16                 Japan       2369.737978\n",
      "25                Norway       1327.614359\n",
      "3                 Canada        879.840420\n",
      "34                Sweden        788.198228\n",
      "35           Switzerland        635.354950\n",
      "18                 Korea        391.556264\n",
      "7                Denmark        356.657419\n",
      "23           Netherlands        317.950592\n",
      "2                Belgium        299.590077\n",
      "15                 Italy        258.687727\n",
      "0              Australia        230.104334\n",
      "9                Finland        228.221473\n",
      "37  United Arab Emirates        201.006942\n",
      "1                Austria        168.625758\n",
      "33                 Spain        123.297868\n",
      "24           New Zealand        105.699230\n",
      "19                Kuwait         84.047080\n",
      "14               Ireland         64.788217\n",
      "26                Poland         61.703472\n",
      "30          Saudi Arabia         45.890579\n",
      "13               Iceland         21.075229\n",
      "22            Luxembourg         16.256560\n",
      "27              Portugal         10.956580\n",
      "6         Czech Republic          7.367309\n",
      "12               Hungary          2.178024\n",
      "8                Estonia          1.859877\n",
      "21             Lithuania          1.843945\n",
      "31       Slovak Republic          1.071460\n",
      "28                 Qatar          0.789886\n",
      "29               Romania          0.717304\n",
      "17            Kazakhstan          0.534177\n",
      "4                Croatia          0.484016\n",
      "36                Turkey          0.138580\n",
      "5                 Cyprus          0.108284\n",
      "32              Slovenia          0.012960\n",
      "20                Latvia          0.003683\n",
      "0.7810997469130261\n"
     ]
    }
   ],
   "source": [
    "print(df_donor_climate.sort_values(by='USD_Disbursement',ascending=False))\n",
    "print(df_donor_climate.USD_Disbursement.sort_values(ascending=False).iloc[:5].sum()/df_donor_climate.USD_Disbursement.sum())\n"
   ],
   "metadata": {
    "collapsed": false,
    "pycharm": {
     "name": "#%%\n"
    }
   }
  },
  {
   "cell_type": "code",
   "execution_count": 13,
   "outputs": [
    {
     "name": "stdout",
     "output_type": "stream",
     "text": [
      "               DonorName  USD_Disbursement  annual_disbursement\n",
      "11               Germany      10183.114540          2545.778635\n",
      "38        United Kingdom       4632.436302          1158.109076\n",
      "10                France       3723.098205           930.774551\n",
      "39         United States       2764.484694           691.121173\n",
      "16                 Japan       2369.737978           592.434495\n",
      "25                Norway       1327.614359           331.903590\n",
      "3                 Canada        879.840420           219.960105\n",
      "34                Sweden        788.198228           197.049557\n",
      "35           Switzerland        635.354950           158.838737\n",
      "18                 Korea        391.556264            97.889066\n",
      "7                Denmark        356.657419            89.164355\n",
      "23           Netherlands        317.950592            79.487648\n",
      "2                Belgium        299.590077            74.897519\n",
      "15                 Italy        258.687727            64.671932\n",
      "0              Australia        230.104334            57.526083\n",
      "9                Finland        228.221473            57.055368\n",
      "37  United Arab Emirates        201.006942            50.251736\n",
      "1                Austria        168.625758            42.156439\n",
      "33                 Spain        123.297868            30.824467\n",
      "24           New Zealand        105.699230            26.424808\n",
      "19                Kuwait         84.047080            21.011770\n",
      "14               Ireland         64.788217            16.197054\n",
      "26                Poland         61.703472            15.425868\n",
      "30          Saudi Arabia         45.890579            11.472645\n",
      "13               Iceland         21.075229             5.268807\n",
      "22            Luxembourg         16.256560             4.064140\n",
      "27              Portugal         10.956580             2.739145\n",
      "6         Czech Republic          7.367309             1.841827\n",
      "12               Hungary          2.178024             0.544506\n",
      "8                Estonia          1.859877             0.464969\n",
      "21             Lithuania          1.843945             0.460986\n",
      "31       Slovak Republic          1.071460             0.267865\n",
      "28                 Qatar          0.789886             0.197471\n",
      "29               Romania          0.717304             0.179326\n",
      "17            Kazakhstan          0.534177             0.133544\n",
      "4                Croatia          0.484016             0.121004\n",
      "36                Turkey          0.138580             0.034645\n",
      "5                 Cyprus          0.108284             0.027071\n",
      "32              Slovenia          0.012960             0.003240\n",
      "20                Latvia          0.003683             0.000921\n"
     ]
    }
   ],
   "source": [
    "df_donor_climate['annual_disbursement']=df_donor_climate.USD_Disbursement/4\n",
    "print(df_donor_climate.sort_values(by='USD_Disbursement',ascending=False))"
   ],
   "metadata": {
    "collapsed": false,
    "pycharm": {
     "name": "#%%\n"
    }
   }
  },
  {
   "cell_type": "code",
   "execution_count": 14,
   "outputs": [
    {
     "name": "stdout",
     "output_type": "stream",
     "text": [
      "['Year', 'DonorCode', 'DonorName', 'AgencyCode', 'AgencyName', 'CrsID', 'ProjectNumber', 'InitialReport', 'RecipientCode', 'RecipientName', 'RegionCode', 'RegionName', 'IncomegroupCode', 'IncomegroupName', 'FlowCode', 'FlowName', 'Bi_Multi', 'Category', 'Finance_t', 'Aid_t', 'USD_Commitment', 'USD_Disbursement', 'USD_Received', 'USD_Commitment_Defl', 'USD_Disbursement_Defl', 'USD_Received_Defl', 'USD_Adjustment', 'USD_Adjustment_Defl', 'USD_AmountUntied', 'USD_AmountPartialTied', 'USD_AmountTied', 'USD_AmountUntied_Defl', 'USD_AmountPartialTied_Defl', 'USD_Amounttied_Defl', 'USD_IRTC', 'USD_Expert_Commitment', 'USD_Expert_Extended', 'USD_Export_Credit', 'CurrencyCode', 'Commitment_National', 'Disbursement_National', 'GrantEquiv', 'USD_GrantEquiv', 'ShortDescription', 'ProjectTitle', 'PurposeCode', 'PurposeName', 'SectorCode', 'SectorName', 'ChannelCode', 'ChannelName', 'ChannelReportedName', 'ParentChannelCode', 'Geography', 'ExpectedStartDate', 'CompletionDate', 'LongDescription', 'SDGfocus', 'Gender', 'Environment', 'PDGG', 'Trade', 'RMNCH', 'DRR', 'Nutrition', 'Disability', 'FTC', 'PBA', 'InvestmentProject', 'AssocFinance', 'Biodiversity', 'ClimateMitigation', 'ClimateAdaptation', 'Desertification', 'CommitmentDate', 'TypeRepayment', 'NumberRepayment', 'Interest1', 'Interest2', 'Repaydate1', 'Repaydate2', 'USD_Interest', 'USD_Outstanding', 'USD_Arrears_Principal', 'USD_Arrears_Interest', 'BudgetIdent', 'CapitalExpend', 'PSIflag', 'PSIAddType', 'PSIAddAssess', 'PSIAddDevObj', 'text', 'language', 'CRSid', 'Pdgg', 'GrantElement', 'USD_Future_DS_Principal', 'USD_Future_DS_Interest', 'DonorType', 'prediction_criterium', 'climate_relevance', 'climate_class_number', 'climate_class', 'meta_category']\n",
      "0        Other Official Flows (non Export Credit)\n",
      "13                                     ODA Grants\n",
      "123                                     ODA Loans\n",
      "260                             Equity Investment\n",
      "39960                 Private Development Finance\n",
      "Name: FlowName, dtype: object\n",
      "XXX\n",
      "['Mitigation', 'Adaptation']\n",
      "            FlowName  USD_Disbursement\n",
      "0  Equity Investment        566.687990\n",
      "1         ODA Grants      17552.293005\n",
      "2          ODA Loans      12188.123587\n",
      "XXX\n",
      "['Mitigation']\n",
      "            FlowName  USD_Disbursement\n",
      "0  Equity Investment        545.418490\n",
      "1         ODA Grants       8216.473034\n",
      "2          ODA Loans      10121.922402\n",
      "XXX\n",
      "['Adaptation']\n",
      "            FlowName  USD_Disbursement\n",
      "0  Equity Investment         21.269500\n",
      "1         ODA Grants       9335.819971\n",
      "2          ODA Loans       2066.201185\n",
      "XXX\n",
      "['Environment']\n",
      "            FlowName  USD_Disbursement\n",
      "0  Equity Investment         88.571361\n",
      "1         ODA Grants      10431.291573\n",
      "2          ODA Loans       5238.023210\n"
     ]
    }
   ],
   "source": [
    "pd.set_option('display.width', 1000)\n",
    "pd.set_option('display.max_columns', 10)\n",
    "pd.options.display.max_colwidth = 500\n",
    "\"\"\"Supplementary Table S2\"\"\"\n",
    "print(list(df_2016.columns))\n",
    "print(df_2016.FlowName.drop_duplicates())\n",
    "df_flows = df_2016[['meta_category','USD_Disbursement','FlowName']].groupby(['meta_category','FlowName']).sum().reset_index()\n",
    "for category in [['Mitigation','Adaptation'],['Mitigation'],['Adaptation'],['Environment']]:\n",
    "    print('XXX')\n",
    "    print(category)\n",
    "    print(df_flows[df_flows.meta_category.isin(category)].groupby('FlowName').sum().reset_index())"
   ],
   "metadata": {
    "collapsed": false,
    "pycharm": {
     "name": "#%%\n"
    }
   }
  },
  {
   "cell_type": "code",
   "execution_count": 2,
   "outputs": [],
   "source": [
    "\"Section 3.2\"\n",
    "\"\"\"RECIPIENTS\"\"\"\n",
    "df_recipients_miti = pd.read_csv(dir_path+'/Data/Analysis/Recipients/recipients_miti_16_19.csv')\n",
    "df_recipients_adap = pd.read_csv(dir_path+'/Data/Analysis/Recipients/recipients_adap_16_19.csv')"
   ],
   "metadata": {
    "collapsed": false,
    "pycharm": {
     "name": "#%%\n"
    }
   }
  },
  {
   "cell_type": "code",
   "execution_count": 15,
   "outputs": [
    {
     "name": "stdout",
     "output_type": "stream",
     "text": [
      "0.08483441051007984\n",
      "0.16610837958110547\n",
      "5.1493597670142695\n",
      "209.14284859900005\n",
      "4061.5311040942534\n"
     ]
    }
   ],
   "source": [
    "print(df_recipients_miti.perc_Mitigation[df_recipients_miti.country_type=='Small Island Developing States'].mean())\n",
    "print(df_recipients_adap.perc_Adaptation[df_recipients_adap.country_type=='Small Island Developing States'].mean())\n",
    "print(df_recipients_adap.perc_Adaptation[df_recipients_adap.country_type=='Small Island Developing States'].sum())\n",
    "print(df_recipients_adap.Adaptation_funding[df_recipients_adap.country_type=='Small Island Developing States'].sum())\n",
    "print(df_recipients_adap.Adaptation_funding.sum())"
   ],
   "metadata": {
    "collapsed": false,
    "pycharm": {
     "name": "#%%\n"
    }
   }
  },
  {
   "cell_type": "code",
   "execution_count": 8,
   "outputs": [
    {
     "name": "stdout",
     "output_type": "stream",
     "text": [
      "2.222239107459552\n",
      "0.004907577583219\n",
      "0.004907577583219\n",
      "0.19932279\n",
      "324.90696745800005\n",
      "4061.5311040942534\n"
     ]
    }
   ],
   "source": [
    "print(df_recipients_miti.Mitigation_funding[df_recipients_miti.RecipientName=='Turkey'].sum())"
   ],
   "metadata": {
    "collapsed": false,
    "pycharm": {
     "name": "#%%\n"
    }
   }
  },
  {
   "cell_type": "code",
   "execution_count": 14,
   "outputs": [
    {
     "name": "stdout",
     "output_type": "stream",
     "text": [
      "14.697471409999999\n",
      "706.39507832\n",
      "0.7905845553038767\n"
     ]
    }
   ],
   "source": [
    "print(df_2016.USD_Disbursement[(df_2016.RecipientName=='Egypt')&(df_2016.climate_class=='Solar-energy')].sum())\n",
    "print(df_2016.USD_Disbursement[(df_2016.RecipientName=='Egypt')&(df_2016.meta_category=='Mitigation')].sum())\n",
    "print(df_2016.USD_Disbursement[(df_2016.RecipientName=='Morocco')&(df_2016.climate_class=='Solar-energy')].sum()/df_2016.USD_Disbursement[(df_2016.RecipientName=='Morocco')&(df_2016.meta_category=='Mitigation')].sum())"
   ],
   "metadata": {
    "collapsed": false,
    "pycharm": {
     "name": "#%%\n"
    }
   }
  },
  {
   "cell_type": "code",
   "execution_count": 39,
   "outputs": [
    {
     "data": {
      "text/plain": "0                               500\n15              Renewables-multiple\n134                    Solar-energy\n139            Sustainable-land-use\n148                      Adaptation\n158      Other-environment-projects\n169             Nature_conservation\n189       Other-mitigation-projects\n213                    Hydro-energy\n261                    Biodiversity\n474                       Bioenergy\n900               Energy-efficiency\n1091              Geothermal-energy\n1864                    Wind-energy\n34006                 Marine-energy\nName: climate_class, dtype: object"
     },
     "execution_count": 39,
     "metadata": {},
     "output_type": "execute_result"
    }
   ],
   "source": [
    "df_2016.RecipientName.drop_duplicates()"
   ],
   "metadata": {
    "collapsed": false,
    "pycharm": {
     "name": "#%%\n"
    }
   }
  },
  {
   "cell_type": "code",
   "execution_count": 4,
   "outputs": [],
   "source": [
    "#Flowname\n",
    "df = df[df.Year>2015]"
   ],
   "metadata": {
    "collapsed": false,
    "pycharm": {
     "name": "#%%\n"
    }
   }
  },
  {
   "cell_type": "code",
   "execution_count": 6,
   "outputs": [
    {
     "name": "stdout",
     "output_type": "stream",
     "text": [
      "            FlowName  USD_Disbursement\n",
      "0  Equity Investment        495.989920\n",
      "1         ODA Grants       8638.512037\n",
      "2          ODA Loans      10753.998208\n"
     ]
    }
   ],
   "source": [
    "mitigation = df[df.meta_category=='Mitigation']\n",
    "print(mitigation[['FlowName','USD_Disbursement']].groupby('FlowName').sum().reset_index())"
   ],
   "metadata": {
    "collapsed": false,
    "pycharm": {
     "name": "#%%\n"
    }
   }
  },
  {
   "cell_type": "code",
   "execution_count": 7,
   "outputs": [
    {
     "name": "stdout",
     "output_type": "stream",
     "text": [
      "            FlowName  USD_Disbursement\n",
      "0  Equity Investment         21.269500\n",
      "1         ODA Grants       6306.315065\n",
      "2          ODA Loans       1337.378784\n"
     ]
    }
   ],
   "source": [
    "adaptation = df[df.meta_category=='Adaptation']\n",
    "print(adaptation[['FlowName','USD_Disbursement']].groupby('FlowName').sum().reset_index())\n",
    "\n"
   ],
   "metadata": {
    "collapsed": false,
    "pycharm": {
     "name": "#%%\n"
    }
   }
  },
  {
   "cell_type": "code",
   "execution_count": 8,
   "outputs": [
    {
     "name": "stdout",
     "output_type": "stream",
     "text": [
      "            FlowName  USD_Disbursement\n",
      "0  Equity Investment         88.669981\n",
      "1         ODA Grants       8277.122516\n",
      "2          ODA Loans       3158.766122\n"
     ]
    }
   ],
   "source": [
    "environment = df[df.meta_category=='Environment']\n",
    "print(environment[['FlowName','USD_Disbursement']].groupby('FlowName').sum().reset_index())"
   ],
   "metadata": {
    "collapsed": false,
    "pycharm": {
     "name": "#%%\n"
    }
   }
  },
  {
   "cell_type": "code",
   "execution_count": 9,
   "outputs": [
    {
     "name": "stdout",
     "output_type": "stream",
     "text": [
      "            FlowName  USD_Disbursement\n",
      "0  Equity Investment        517.259420\n",
      "1         ODA Grants      14944.827102\n",
      "2          ODA Loans      12091.376992\n"
     ]
    }
   ],
   "source": [
    "climate= df[df.meta_category.isin(['Adaptation','Mitigation'])]\n",
    "print(climate[['FlowName','USD_Disbursement']].groupby('FlowName').sum().reset_index())"
   ],
   "metadata": {
    "collapsed": false,
    "pycharm": {
     "name": "#%%\n"
    }
   }
  },
  {
   "cell_type": "code",
   "execution_count": 9,
   "outputs": [
    {
     "data": {
      "text/plain": "   RecipientName country_type country_code           gdp  Mitigation_funding  effective_funding  perc_Mitigation\n56     Indonesia        LMICs          IDN  9.939560e+11          917.171437        1296.400679         6.273101",
      "text/html": "<div>\n<style scoped>\n    .dataframe tbody tr th:only-of-type {\n        vertical-align: middle;\n    }\n\n    .dataframe tbody tr th {\n        vertical-align: top;\n    }\n\n    .dataframe thead th {\n        text-align: right;\n    }\n</style>\n<table border=\"1\" class=\"dataframe\">\n  <thead>\n    <tr style=\"text-align: right;\">\n      <th></th>\n      <th>RecipientName</th>\n      <th>country_type</th>\n      <th>country_code</th>\n      <th>gdp</th>\n      <th>Mitigation_funding</th>\n      <th>effective_funding</th>\n      <th>perc_Mitigation</th>\n    </tr>\n  </thead>\n  <tbody>\n    <tr>\n      <th>56</th>\n      <td>Indonesia</td>\n      <td>LMICs</td>\n      <td>IDN</td>\n      <td>9.939560e+11</td>\n      <td>917.171437</td>\n      <td>1296.400679</td>\n      <td>6.273101</td>\n    </tr>\n  </tbody>\n</table>\n</div>"
     },
     "execution_count": 9,
     "metadata": {},
     "output_type": "execute_result"
    }
   ],
   "source": [
    "df_recipients_miti[df_recipients_miti.RecipientName=='Indonesia']"
   ],
   "metadata": {
    "collapsed": false,
    "pycharm": {
     "name": "#%%\n"
    }
   }
  }
 ],
 "metadata": {
  "kernelspec": {
   "display_name": "Python 3",
   "language": "python",
   "name": "python3"
  },
  "language_info": {
   "codemirror_mode": {
    "name": "ipython",
    "version": 2
   },
   "file_extension": ".py",
   "mimetype": "text/x-python",
   "name": "python",
   "nbconvert_exporter": "python",
   "pygments_lexer": "ipython2",
   "version": "2.7.6"
  }
 },
 "nbformat": 4,
 "nbformat_minor": 0
}