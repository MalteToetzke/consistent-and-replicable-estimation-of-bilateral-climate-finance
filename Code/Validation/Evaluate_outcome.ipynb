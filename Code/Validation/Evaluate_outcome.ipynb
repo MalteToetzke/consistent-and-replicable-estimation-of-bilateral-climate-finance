{
 "cells": [
  {
   "cell_type": "code",
   "execution_count": 8,
   "metadata": {
    "collapsed": true
   },
   "outputs": [
    {
     "name": "stdout",
     "output_type": "stream",
     "text": [
      "        Year  donorcode   donornameE agencynameE  usd_commitment  usd_commitment_defl  recipientcode             recipientnameE  purposecode                         purposename_e                                                                              .  environment  biodiversity  climateMitigation  climateAdaptation  desertification           RegionNameE              IncomeGroupNameE  flowname_e                                                       aid_T_description_e  Sector                                 SectorNameE                                    ChannelNameE  ChannelReportedNameE                                   geography                                                                   projecttitle  \\\n",
      "0     2012.0        7.0  Netherlands         MFA    1.300000e-08         1.300000e-08         9998.0     Bilateral, unspecified      41082.0                Environmental research                                                        DMW IIED CORE 2009-2011          2.0           0.0                0.0                1.0              0.0           Unspecified  Part I unallocated by income  ODA Grants  Core support to NGOs, other private bodies, PPPs and research institutes   410.0        IV.1. General Environment Protection                              INTERNATIONAL NGOs                  IIED                                         NaN                                                        DMW IIED core 2009-2011   \n",
      "1     2012.0       10.0       Sweden        Sida    1.480000e-07         1.480000e-07          289.0  South of Sahara, regional      41010.0  Environmental policy and admin. mgmt                                                   ITP 261WA FINAL INVOICE 2010          2.0           1.0                2.0                2.0              1.0       South of Sahara  Part I unallocated by income  ODA Grants                                                Other technical assistance   410.0        IV.1. General Environment Protection                                Donor government      Donor Government                                         NaN                                                   ITP 261WA final invoice 2010   \n",
      "2     2012.0       11.0  Switzerland         SDC    4.270000e-06         4.270000e-06          289.0  South of Sahara, regional      74010.0  Disaster prevention and preparedness                         SECONDMENT: EMERGENCY PREPAREDNESS OFFICER WEST-AFRIKA          1.0           1.0                0.0                2.0              1.0       South of Sahara  Part I unallocated by income  ODA Grants                                                   Donor country personnel   740.0  VIII.3. Disaster Prevention & Preparedness                           World Food Programme                    NaN                                         NaN                         Secondment: Emergency Preparedness Officer West-Afrika   \n",
      "3     2012.0       11.0  Switzerland         SDC    1.390000e-05         1.390000e-05          298.0           Africa, regional      41020.0                  Biosphere protection                                         UNFCCC ADAPTATION FUND WORKSHOP AFRICA          2.0           0.0                0.0                2.0              0.0                Africa  Part I unallocated by income  ODA Grants                                                Other technical assistance   410.0        IV.1. General Environment Protection  UNITED NATIONS AGENCIES, FUNDS AND COMMISSIONS                   NaN                                         NaN                                         UNFCCC Adaptation fund workshop Africa   \n",
      "4     2012.0       11.0  Switzerland         SDC    1.600000e-05         1.600000e-05          730.0                      China      41020.0                  Biosphere protection                                               ECONOMICS OF ADAPTATION IN WATER          2.0           0.0                0.0                2.0              0.0         Far East Asia                         UMICs  ODA Grants                                                Project-type interventions   410.0        IV.1. General Environment Protection          International Development Association                    NaN                                         NaN                                               Economics of Adaptation in Water   \n",
      "...      ...        ...          ...         ...             ...                  ...            ...                        ...          ...                                   ...                                                                            ...          ...           ...                ...                ...              ...                   ...                           ...         ...                                                                       ...     ...                                         ...                                             ...                   ...                                         ...                                                                            ...   \n",
      "5197  2012.0      701.0        Japan        JICA    2.321284e+02         2.321284e+02          769.0                    Vietnam      14022.0            Sanitation - large systems  SOUTHERN BINH DUONG PROVINCE WATER ENVIRONMENT IMPROVEMENT PROJECT - PHASE II          2.0           0.0                0.0                1.0              0.0         Far East Asia                         LMICs   ODA Loans                                                Project-type interventions   140.0              I.4. Water Supply & Sanitation                            Recipient government  Recipient Government                         Binh Duong Province  Southern Binh Duong Province Water Environment Improvement Project - Phase II   \n",
      "5198  2012.0      701.0        Japan        JICA    3.379750e+02         3.379750e+02          645.0                      India      14021.0          Water supply - large systems                                         DELHI WATER SUPPLY IMPROVEMENT PROJECT          2.0           0.0                0.0                1.0              0.0  South & Central Asia                         LMICs   ODA Loans                                                Project-type interventions   140.0              I.4. Water Supply & Sanitation                            Recipient government  Recipient Government  National Capital Territory of Delhi, India                                         Delhi Water Supply Improvement Project   \n",
      "5199  2012.0      701.0        Japan        JICA    4.583931e+02         4.583931e+02          645.0                      India      14021.0          Water supply - large systems                      RAJASTHAN RURAL WATER SUPPLY & FLUOROSIS PROJECT (NAGAUR)          2.0           0.0                0.0                1.0              0.0  South & Central Asia                         LMICs   ODA Loans                                                Project-type interventions   140.0              I.4. Water Supply & Sanitation                            Recipient government  Recipient Government         Nagaur District, State of Rajasthan                      Rajasthan Rural Water Supply & Fluorosis Project (Nagaur)   \n",
      "5200     NaN        NaN          NaN         NaN             NaN                  NaN            NaN                        NaN          NaN                                   NaN                                                                            NaN          NaN           NaN                NaN                NaN              NaN                   NaN                           NaN         NaN                                                                       NaN     NaN                                         NaN                                             NaN                   NaN                                         NaN                                                                            NaN   \n",
      "5201     NaN        NaN          NaN         NaN             NaN                  NaN            NaN                        NaN          NaN                                   NaN                                                                            NaN          NaN           NaN                NaN                NaN              NaN                   NaN                           NaN         NaN                                                                       NaN     NaN                                         NaN                                             NaN                   NaN                                         NaN                                                                            NaN   \n",
      "\n",
      "                                                                                                                                                                                                                                                                                                                                                                                                                                                                                     longdescription  gender  Free-standing Technical Co-operation  Programme Based Approaches  investmentproject       crsid                        project #  reevaluation  Unnamed: 34  Unnamed: 35  Unnamed: 36  Unnamed: 37  Unnamed: 38  \\\n",
      "0                                                                                                                                                                                                                                                                                                                                                                                                                                                                   Core funding to IIED 2009 - 2011     0.0                                   NaN                         NaN                NaN  2010000549                            20240           0.0          NaN          NaN          NaN          NaN          NaN   \n",
      "1                                                                                                                                                                                                                                                                                                                                                                                                                                                                       Doubleregistered! Cancelled!     1.0                                   1.0                         NaN                NaN  2012002279                       5405023901           0.0          NaN          NaN          NaN          NaN          NaN   \n",
      "2     The African Union member States have formulated a framework strategy to address climate change. The AFF has participated in that process, as well as in the African Union Commission process on forming an African position in climate change negotiations. Swiss Agency for Development and Cooperation,  in close collaboration with Swedish Sida, supports the preparation and implementation of a targeted AFF climate change programme that contributes to this overall African strategy.     0.0                                   1.0                         NaN                NaN  2008003971  7F-06610.04-41140-289-74010-D01           2.0          NaN          NaN          NaN          NaN          NaN   \n",
      "3                                                                                                                                                                                                                                                                                                                                                                                                                                                                           Contribution to Workshop     0.0                                   1.0                         NaN                NaN  2011001537  7F-08156.01-41000-298-41020-D02           2.0          NaN          NaN          NaN          NaN          NaN   \n",
      "4                                                                                                                                                                                                                                                                                                                                                                                                                                          Adaptation to climate change in the water sector in China     0.0                                   NaN                         NaN                NaN  2011001459  7F-08049.01-44002-730-41020-C01           2.0          NaN          NaN          NaN          NaN          NaN   \n",
      "...                                                                                                                                                                                                                                                                                                                                                                                                                                                                                              ...     ...                                   ...                         ...                ...         ...                              ...           ...          ...          ...          ...          ...          ...   \n",
      "5197                                                                                                                                                                                                                                                                                                                                                                                                                                                  To expand and construct urban sewerage systems     0.0                                   NaN                         NaN                1.0  2012003046                     JICAVN11-P10           0.0          NaN          NaN          NaN          NaN          NaN   \n",
      "5198                                                                                                                                                                                                                                                                                                                                                                                                                                                              To achieve 24x7 water supply Delhi     1.0                                   NaN                         NaN                1.0  2012003086                      JICAID-P225           0.0          NaN          NaN          NaN          NaN          NaN   \n",
      "5199                                                                                                                                                                                                                                                                                                                                                                                                                                                                  To supply safe water in Nagaur     1.0                                   NaN                         NaN                1.0  2012003069                      JICAID-P226           0.0          NaN          NaN          NaN          NaN          NaN   \n",
      "5200                                                                                                                                                                                                                                                                                                                                                                                                                                                                                             NaN     NaN                                   NaN                         NaN                NaN         NaN                              NaN          99.0          NaN          NaN          NaN          NaN          NaN   \n",
      "5201                                                                                                                                                                                                                                                                                                                                                                                                                                                                                             NaN     NaN                                   NaN                         NaN                NaN         NaN                              NaN           NaN          NaN          NaN          NaN          NaN          NaN   \n",
      "\n",
      "                                                                                                                                                                                                                                                                                                                                                                                                                                                                                                                     text  \\\n",
      "0                                                                                                                                                                                                                                                                                                                                                                                                                                                                DMW IIED core 2009-2011 Core funding to IIED 2009 - 2011   \n",
      "1                                                                                                                                                                                                                                                                                                                                                                                                                                                               ITP 261WA final invoice 2010 Doubleregistered! Cancelled!   \n",
      "2     Secondment: Emergency Preparedness Officer West-Afrika The African Union member States have formulated a framework strategy to address climate change. The AFF has participated in that process, as well as in the African Union Commission process on forming an African position in climate change negotiations. Swiss Agency for Development and Cooperation,  in close collaboration with Swedish Sida, supports the preparation and implementation of a targeted AFF climate change programme that contribu...   \n",
      "3                                                                                                                                                                                                                                                                                                                                                                                                                                                         UNFCCC Adaptation fund workshop Africa Contribution to Workshop   \n",
      "4                                                                                                                                                                                                                                                                                                                                                                                                                              Economics of Adaptation in Water Adaptation to climate change in the water sector in China   \n",
      "...                                                                                                                                                                                                                                                                                                                                                                                                                                                                                                                   ...   \n",
      "5197                                                                                                                                                                                                                                                                                                                                                                                         Southern Binh Duong Province Water Environment Improvement Project - Phase II To expand and construct urban sewerage systems   \n",
      "5198                                                                                                                                                                                                                                                                                                                                                                                                                                            Delhi Water Supply Improvement Project To achieve 24x7 water supply Delhi   \n",
      "5199                                                                                                                                                                                                                                                                                                                                                                                                                             Rajasthan Rural Water Supply & Fluorosis Project (Nagaur) To supply safe water in Nagaur   \n",
      "5200                                                                                                                                                                                                                                                                                                                                                                                                                                                                                                                  NaN   \n",
      "5201                                                                                                                                                                                                                                                                                                                                                                                                                                                                                                                  NaN   \n",
      "\n",
      "                                                                                                                                                                                                                                                                                                                                                                                                                                                                                                        text_preprocessed  prediction_criterium  climate_relevance  climate_class_number climate_class  english  \n",
      "0                                                                                                                                                                                                                                                                                                                                                                                                                                                                                      dmw iied core core funding to iied                     1                  0                   500           500      NaN  \n",
      "1                                                                                                                                                                                                                                                                                                                                                                                                                                                                         itp wa final invoice doubleregistered cancelled                     1                  0                   500           500      NaN  \n",
      "2     secondment emergency preparedness officer westafrika the african union member states have formulated a framework strategy to address climate change the aff has participated in that process as well as in the african union commission process on forming an african position in climate change negotiations swiss agency for development and cooperation in close collaboration with swedish sida supports the preparation and implementation of a targeted aff climate change programme that contributes to t...                     1                  1                     0    Adaptation      NaN  \n",
      "3                                                                                                                                                                                                                                                                                                                                                                                                                                                         unfccc adaptation fund workshop africa contribution to workshop                     1                  1                     0    Adaptation      NaN  \n",
      "4                                                                                                                                                                                                                                                                                                                                                                                                                              economics of adaptation in water adaptation to climate change in the water sector in china                     1                  1                     0    Adaptation      NaN  \n",
      "...                                                                                                                                                                                                                                                                                                                                                                                                                                                                                                                   ...                   ...                ...                   ...           ...      ...  \n",
      "5197                                                                                                                                                                                                                                                                                                                                                                                           southern binh duong province water environment improvement project phase ii to expand and construct urban sewerage systems                     1                  0                   500           500      NaN  \n",
      "5198                                                                                                                                                                                                                                                                                                                                                                                                                                               delhi water supply improvement project to achieve x water supply delhi                     1                  0                   500           500      NaN  \n",
      "5199                                                                                                                                                                                                                                                                                                                                                                                                                                 rajasthan rural water supply fluorosis project nagaur to supply safe water in nagaur                     1                  0                   500           500      NaN  \n",
      "5200                                                                                                                                                                                                                                                                                                                                                                                                                                                                                                              N o n e                     0                  0                   500           500      NaN  \n",
      "5201                                                                                                                                                                                                                                                                                                                                                                                                                                                                                                              N o n e                     0                  0                   500           500      NaN  \n",
      "\n",
      "[5202 rows x 46 columns]\n",
      "Index(['Year', 'donorcode', 'donornameE', 'agencynameE', 'usd_commitment', 'usd_commitment_defl', 'recipientcode', 'recipientnameE', 'purposecode', 'purposename_e', '.', 'environment', 'biodiversity', 'climateMitigation', 'climateAdaptation', 'desertification', 'RegionNameE', 'IncomeGroupNameE', 'flowname_e', 'aid_T_description_e', 'Sector', 'SectorNameE', 'ChannelNameE', 'ChannelReportedNameE', 'geography', 'projecttitle', 'longdescription', 'gender', 'Free-standing Technical Co-operation', 'Programme Based Approaches', 'investmentproject', 'crsid', 'project #', 'reevaluation', 'Unnamed: 34', 'Unnamed: 35', 'Unnamed: 36', 'Unnamed: 37', 'Unnamed: 38', 'text', 'text_preprocessed', 'prediction_criterium', 'climate_relevance', 'climate_class_number', 'climate_class', 'english'], dtype='object')\n"
     ]
    }
   ],
   "source": [
    "dir_path = ''\n",
    "import pandas as pd\n",
    "\n",
    "pd.set_option('display.width', 1000)\n",
    "pd.set_option('display.max_columns', 50)\n",
    "\n",
    "df = pd.read_csv(dir_path+\"/Data/Validation/Weikmans_validated2.csv\")\n",
    "\n",
    "df = df.rename(columns={\"Our re-evaluation (climateAdaptation)\":\"reevaluation\"})\n",
    "print(df)\n",
    "print(df.columns)"
   ]
  },
  {
   "cell_type": "code",
   "execution_count": 9,
   "outputs": [
    {
     "name": "stdout",
     "output_type": "stream",
     "text": [
      "(5202, 46)\n",
      "(5106, 46)\n",
      "(3577, 46)\n"
     ]
    }
   ],
   "source": [
    "# drop non-english:\n",
    "print(df.shape)\n",
    "df=df[df.english!=0]\n",
    "print(df.shape)\n",
    "\n",
    "# drop duplicates:\n",
    "df=df.drop_duplicates(subset=\"text_preprocessed\")\n",
    "print(df.shape)"
   ],
   "metadata": {
    "collapsed": false,
    "pycharm": {
     "name": "#%%\n"
    }
   }
  },
  {
   "cell_type": "code",
   "execution_count": 10,
   "outputs": [
    {
     "name": "stdout",
     "output_type": "stream",
     "text": [
      "0.3114754098360656\n",
      "0.0764525993883792\n"
     ]
    }
   ],
   "source": [
    "print(df[(df[\"reevaluation\"]==1)&(df.climate_class==\"Adaptation\")].shape[0]/df[(df[\"reevaluation\"]==1)].shape[0])\n",
    "\n",
    "print(df[(df[\"climateAdaptation\"]==1)&(df[\"reevaluation\"]==1)].shape[0]/df[(df[\"climateAdaptation\"]==1)].shape[0])"
   ],
   "metadata": {
    "collapsed": false,
    "pycharm": {
     "name": "#%%\n"
    }
   }
  },
  {
   "cell_type": "code",
   "execution_count": 11,
   "outputs": [
    {
     "data": {
      "text/plain": "                                                                                                                                                                                                                                                                                                                                                                                                                                                                                                                     text        climate_class\n181                                                                                                                                                                                           Own call of interest. Project: Socioenvironmental restoration  of Morro Moravia. Use of buffer strips, depolluting/fixing degradeted urban soil. Restauración socio-ambiental del Morro de Moravia: Utilización de buffers strips para descontaminar y estabilitzar suelo urbano degradado --- original channelcode : 51001  Nature_conservation\n198                                                                                                                                                                                                                                                                                                                                                                                                                                                                           Planet Under Pressure Planet Under Pressure                  500\n225                                                                                                                                                                                                                                                                                                                                                                                                           Disaster Management: A Multistakeholder Collaboration Disaster Management: A Multistakeholder Collaboration                  500\n524                                                                                                                                                                                                                                                                                                                                          Disaster Prediction and Warning System Training about the strategy and policy of disaster warning system of Korea in order to understand of disaster warning system of Korea                  500\n565                                                                                                                                                                                                                                                                                                                                                                                     Training on Disaster Management for Civil Protection Authorities Training on Disaster Management for Civil Protection Authorities                  500\n...                                                                                                                                                                                                                                                                                                                                                                                                                                                                                                                   ...                  ...\n5076                                                                                                                                                                                                                                                                                                                                                  The Project for Improvement of Machinery for Rehabilitation of Polder Embankment in Ayeyawady Delta This project provides equipment to improve disaster management.                  500\n5104                                                                                                                                                                                                                                                                                                                                                                             Project for Flood Disaster Rehabilitation and Mitigation This project rehabilitates bridges and drainage to improve disaster management.                  500\n5109  EnDev Partnership Funding under this initiative supports the Deutsche Gesellschaft fur Internationale Zusammernarbeit's (GIZ) Energising Development (EnDev) program to help reduce deforestation and forest degradation in developing countries (REDD+) by providing alternate, modern cooking technologies in replacement of existing wood burning methods. Other expected outcomes from this initiative include: improved health as indoor biomass cooking smoke is strongly linked with respiratory disease ...       Biofuel-energy\n5118                                                                                                                                                                                                                                                                                                                                                                                                                  Integrated Coastal and Mangrove Forest Protection Integrated Coastal and Mangrove Forest Protection  Nature_conservation\n5180                                                                                                                                                                                                                                                                                                                                                               The Rehabilitation Project of the Outer Bangkok Ring Road(East Portion) This project rehabilitates outer circular road to improve disaster management.                  500\n\n[123 rows x 2 columns]",
      "text/html": "<div>\n<style scoped>\n    .dataframe tbody tr th:only-of-type {\n        vertical-align: middle;\n    }\n\n    .dataframe tbody tr th {\n        vertical-align: top;\n    }\n\n    .dataframe thead th {\n        text-align: right;\n    }\n</style>\n<table border=\"1\" class=\"dataframe\">\n  <thead>\n    <tr style=\"text-align: right;\">\n      <th></th>\n      <th>text</th>\n      <th>climate_class</th>\n    </tr>\n  </thead>\n  <tbody>\n    <tr>\n      <th>181</th>\n      <td>Own call of interest. Project: Socioenvironmental restoration  of Morro Moravia. Use of buffer strips, depolluting/fixing degradeted urban soil. Restauración socio-ambiental del Morro de Moravia: Utilización de buffers strips para descontaminar y estabilitzar suelo urbano degradado --- original channelcode : 51001</td>\n      <td>Nature_conservation</td>\n    </tr>\n    <tr>\n      <th>198</th>\n      <td>Planet Under Pressure Planet Under Pressure</td>\n      <td>500</td>\n    </tr>\n    <tr>\n      <th>225</th>\n      <td>Disaster Management: A Multistakeholder Collaboration Disaster Management: A Multistakeholder Collaboration</td>\n      <td>500</td>\n    </tr>\n    <tr>\n      <th>524</th>\n      <td>Disaster Prediction and Warning System Training about the strategy and policy of disaster warning system of Korea in order to understand of disaster warning system of Korea</td>\n      <td>500</td>\n    </tr>\n    <tr>\n      <th>565</th>\n      <td>Training on Disaster Management for Civil Protection Authorities Training on Disaster Management for Civil Protection Authorities</td>\n      <td>500</td>\n    </tr>\n    <tr>\n      <th>...</th>\n      <td>...</td>\n      <td>...</td>\n    </tr>\n    <tr>\n      <th>5076</th>\n      <td>The Project for Improvement of Machinery for Rehabilitation of Polder Embankment in Ayeyawady Delta This project provides equipment to improve disaster management.</td>\n      <td>500</td>\n    </tr>\n    <tr>\n      <th>5104</th>\n      <td>Project for Flood Disaster Rehabilitation and Mitigation This project rehabilitates bridges and drainage to improve disaster management.</td>\n      <td>500</td>\n    </tr>\n    <tr>\n      <th>5109</th>\n      <td>EnDev Partnership Funding under this initiative supports the Deutsche Gesellschaft fur Internationale Zusammernarbeit's (GIZ) Energising Development (EnDev) program to help reduce deforestation and forest degradation in developing countries (REDD+) by providing alternate, modern cooking technologies in replacement of existing wood burning methods. Other expected outcomes from this initiative include: improved health as indoor biomass cooking smoke is strongly linked with respiratory disease ...</td>\n      <td>Biofuel-energy</td>\n    </tr>\n    <tr>\n      <th>5118</th>\n      <td>Integrated Coastal and Mangrove Forest Protection Integrated Coastal and Mangrove Forest Protection</td>\n      <td>Nature_conservation</td>\n    </tr>\n    <tr>\n      <th>5180</th>\n      <td>The Rehabilitation Project of the Outer Bangkok Ring Road(East Portion) This project rehabilitates outer circular road to improve disaster management.</td>\n      <td>500</td>\n    </tr>\n  </tbody>\n</table>\n<p>123 rows × 2 columns</p>\n</div>"
     },
     "execution_count": 11,
     "metadata": {},
     "output_type": "execute_result"
    }
   ],
   "source": [
    "pd.options.display.max_colwidth = 500\n",
    "df[[\"text\",\"climate_class\"]][(df[\"reevaluation\"]==2)&(df.climate_class!=\"Adaptation\")]"
   ],
   "metadata": {
    "collapsed": false,
    "pycharm": {
     "name": "#%%\n"
    }
   }
  },
  {
   "cell_type": "code",
   "execution_count": 12,
   "outputs": [],
   "source": [
    "pd.options.display.max_colwidth = 500"
   ],
   "metadata": {
    "collapsed": false,
    "pycharm": {
     "name": "#%%\n"
    }
   }
  },
  {
   "cell_type": "code",
   "execution_count": 14,
   "outputs": [
    {
     "name": "stderr",
     "output_type": "stream",
     "text": [
      "C:\\Users\\malte\\Documents\\GitHub\\Climate_Finance_Bert\\virtualenv\\lib\\site-packages\\ipykernel_launcher.py:3: SettingWithCopyWarning: \n",
      "A value is trying to be set on a copy of a slice from a DataFrame\n",
      "\n",
      "See the caveats in the documentation: https://pandas.pydata.org/pandas-docs/stable/user_guide/indexing.html#returning-a-view-versus-a-copy\n",
      "  This is separate from the ipykernel package so we can avoid doing imports until\n",
      "C:\\Users\\malte\\Documents\\GitHub\\Climate_Finance_Bert\\virtualenv\\lib\\site-packages\\ipykernel_launcher.py:6: SettingWithCopyWarning: \n",
      "A value is trying to be set on a copy of a slice from a DataFrame\n",
      "\n",
      "See the caveats in the documentation: https://pandas.pydata.org/pandas-docs/stable/user_guide/indexing.html#returning-a-view-versus-a-copy\n",
      "  \n",
      "C:\\Users\\malte\\Documents\\GitHub\\Climate_Finance_Bert\\virtualenv\\lib\\site-packages\\ipykernel_launcher.py:9: SettingWithCopyWarning: \n",
      "A value is trying to be set on a copy of a slice from a DataFrame\n",
      "\n",
      "See the caveats in the documentation: https://pandas.pydata.org/pandas-docs/stable/user_guide/indexing.html#returning-a-view-versus-a-copy\n",
      "  if __name__ == '__main__':\n"
     ]
    }
   ],
   "source": [
    "###SETUP:\n",
    "df[\"Rio\"]=0\n",
    "df[\"Rio\"][df.climateAdaptation.isin([2])]=1\n",
    "\n",
    "df[\"Weikmans\"]=0\n",
    "df[\"Weikmans\"][df[\"reevaluation\"].isin([2])]=1\n",
    "\n",
    "df[\"CCBert\"]=0\n",
    "df[\"CCBert\"][df.climate_class==\"Adaptation\"]=1"
   ],
   "metadata": {
    "collapsed": false,
    "pycharm": {
     "name": "#%%\n"
    }
   }
  },
  {
   "cell_type": "code",
   "execution_count": 15,
   "outputs": [
    {
     "name": "stdout",
     "output_type": "stream",
     "text": [
      "Rio\n",
      "Weikmans\n",
      "CCBert\n"
     ]
    }
   ],
   "source": [
    "rows = [\"Rio\",\"Weikmans\",\"CCBert\"]\n",
    "\n",
    "columns = [[],[],[]]\n",
    "for row in rows:\n",
    "    print(row)\n",
    "    for i,column in enumerate(rows):\n",
    "        columns[i].append(df[(df[row]==1)&(df[column]==1)].shape[0]/df[(df[row]==1)].shape[0])\n",
    "\n",
    "\n",
    "df2 = pd.DataFrame(data = {\"Base\":rows,\n",
    "                          \"Rio\":columns[0],\n",
    "                          \"Weikmans\":columns[1],\n",
    "                          \"CCBert\":columns[2]})\n"
   ],
   "metadata": {
    "collapsed": false,
    "pycharm": {
     "name": "#%%\n"
    }
   }
  },
  {
   "cell_type": "code",
   "execution_count": 16,
   "outputs": [
    {
     "name": "stdout",
     "output_type": "stream",
     "text": [
      "       Base       Rio  Weikmans    CCBert\n",
      "0       Rio  1.000000  0.362123  0.386056\n",
      "1  Weikmans  0.628159  1.000000  0.777978\n",
      "2    CCBert  0.599354  0.696284  1.000000\n"
     ]
    }
   ],
   "source": [
    "print(df2)\n",
    "\n"
   ],
   "metadata": {
    "collapsed": false,
    "pycharm": {
     "name": "#%%\n"
    }
   }
  },
  {
   "cell_type": "code",
   "execution_count": 17,
   "outputs": [
    {
     "name": "stderr",
     "output_type": "stream",
     "text": [
      "C:\\Users\\malte\\Documents\\GitHub\\Climate_Finance_Bert\\virtualenv\\lib\\site-packages\\ipykernel_launcher.py:3: SettingWithCopyWarning: \n",
      "A value is trying to be set on a copy of a slice from a DataFrame\n",
      "\n",
      "See the caveats in the documentation: https://pandas.pydata.org/pandas-docs/stable/user_guide/indexing.html#returning-a-view-versus-a-copy\n",
      "  This is separate from the ipykernel package so we can avoid doing imports until\n",
      "C:\\Users\\malte\\Documents\\GitHub\\Climate_Finance_Bert\\virtualenv\\lib\\site-packages\\ipykernel_launcher.py:6: SettingWithCopyWarning: \n",
      "A value is trying to be set on a copy of a slice from a DataFrame\n",
      "\n",
      "See the caveats in the documentation: https://pandas.pydata.org/pandas-docs/stable/user_guide/indexing.html#returning-a-view-versus-a-copy\n",
      "  \n",
      "C:\\Users\\malte\\Documents\\GitHub\\Climate_Finance_Bert\\virtualenv\\lib\\site-packages\\ipykernel_launcher.py:9: SettingWithCopyWarning: \n",
      "A value is trying to be set on a copy of a slice from a DataFrame\n",
      "\n",
      "See the caveats in the documentation: https://pandas.pydata.org/pandas-docs/stable/user_guide/indexing.html#returning-a-view-versus-a-copy\n",
      "  if __name__ == '__main__':\n"
     ]
    }
   ],
   "source": [
    "###SETUP:\n",
    "df[\"Rio\"]=0\n",
    "df[\"Rio\"][df.climateAdaptation.isin([1,2])]=1\n",
    "\n",
    "df[\"Weikmans\"]=0\n",
    "df[\"Weikmans\"][df[\"reevaluation\"].isin([1,2])]=1\n",
    "\n",
    "df[\"CCBert\"]=0\n",
    "df[\"CCBert\"][df.climate_class==\"Adaptation\"]=1"
   ],
   "metadata": {
    "collapsed": false,
    "pycharm": {
     "name": "#%%\n"
    }
   }
  },
  {
   "cell_type": "code",
   "execution_count": 18,
   "outputs": [
    {
     "name": "stdout",
     "output_type": "stream",
     "text": [
      "Rio\n",
      "Weikmans\n",
      "CCBert\n"
     ]
    }
   ],
   "source": [
    "\"\"\"Including Significant\"\"\"\n",
    "rows = [\"Rio\",\"Weikmans\",\"CCBert\"]\n",
    "\n",
    "columns = [[],[],[]]\n",
    "for row in rows:\n",
    "    print(row)\n",
    "    for i,column in enumerate(rows):\n",
    "        columns[i].append(df[(df[row]==1)&(df[column]==1)].shape[0]/df[(df[row]==1)].shape[0])\n",
    "\n",
    "df2 = pd.DataFrame(data = {\"Base\":rows,\n",
    "                          \"Rio\":columns[0],\n",
    "                          \"Weikmans\":columns[1],\n",
    "                          \"CCBert\":columns[2]})\n"
   ],
   "metadata": {
    "collapsed": false,
    "pycharm": {
     "name": "#%%\n"
    }
   }
  },
  {
   "cell_type": "code",
   "execution_count": 19,
   "outputs": [
    {
     "name": "stdout",
     "output_type": "stream",
     "text": [
      "       Base  Rio  Weikmans   CCBert\n",
      "0       Rio  1.0  0.240145  0.17305\n",
      "1  Weikmans  1.0  1.000000  0.61234\n",
      "2    CCBert  1.0  0.849758  1.00000\n"
     ]
    }
   ],
   "source": [
    "print(df2)"
   ],
   "metadata": {
    "collapsed": false,
    "pycharm": {
     "name": "#%%\n"
    }
   }
  },
  {
   "cell_type": "code",
   "execution_count": 20,
   "outputs": [
    {
     "name": "stderr",
     "output_type": "stream",
     "text": [
      "C:\\Users\\malte\\Documents\\GitHub\\Climate_Finance_Bert\\virtualenv\\lib\\site-packages\\ipykernel_launcher.py:2: SettingWithCopyWarning: \n",
      "A value is trying to be set on a copy of a slice from a DataFrame.\n",
      "Try using .loc[row_indexer,col_indexer] = value instead\n",
      "\n",
      "See the caveats in the documentation: https://pandas.pydata.org/pandas-docs/stable/user_guide/indexing.html#returning-a-view-versus-a-copy\n",
      "  \n",
      "C:\\Users\\malte\\Documents\\GitHub\\Climate_Finance_Bert\\virtualenv\\lib\\site-packages\\ipykernel_launcher.py:3: SettingWithCopyWarning: \n",
      "A value is trying to be set on a copy of a slice from a DataFrame\n",
      "\n",
      "See the caveats in the documentation: https://pandas.pydata.org/pandas-docs/stable/user_guide/indexing.html#returning-a-view-versus-a-copy\n",
      "  This is separate from the ipykernel package so we can avoid doing imports until\n",
      "C:\\Users\\malte\\Documents\\GitHub\\Climate_Finance_Bert\\virtualenv\\lib\\site-packages\\pandas\\core\\generic.py:8870: SettingWithCopyWarning: \n",
      "A value is trying to be set on a copy of a slice from a DataFrame\n",
      "\n",
      "See the caveats in the documentation: https://pandas.pydata.org/pandas-docs/stable/user_guide/indexing.html#returning-a-view-versus-a-copy\n",
      "  return self._update_inplace(result)\n"
     ]
    }
   ],
   "source": [
    "disagreement = df[((df[\"reevaluation\"]==2)&(df.climate_class!=\"Adaptation\"))|((df[\"reevaluation\"]==0)&(df.climate_class==\"Adaptation\"))]\n",
    "disagreement[\"Error_type\"] = 1\n",
    "disagreement[\"Error_type\"][df.climate_class==\"Adaptation\"]=2\n",
    "disagreement.to_csv(dir_path+\"/Data/Validation/disagreement.csv\", index=False)"
   ],
   "metadata": {
    "collapsed": false,
    "pycharm": {
     "name": "#%%\n"
    }
   }
  }
 ],
 "metadata": {
  "kernelspec": {
   "display_name": "Python 3",
   "language": "python",
   "name": "python3"
  },
  "language_info": {
   "codemirror_mode": {
    "name": "ipython",
    "version": 2
   },
   "file_extension": ".py",
   "mimetype": "text/x-python",
   "name": "python",
   "nbconvert_exporter": "python",
   "pygments_lexer": "ipython2",
   "version": "2.7.6"
  }
 },
 "nbformat": 4,
 "nbformat_minor": 0
}